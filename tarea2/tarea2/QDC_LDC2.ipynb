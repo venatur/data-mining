{
  "nbformat": 4,
  "nbformat_minor": 0,
  "metadata": {
    "colab": {
      "name": "QDC_LDC2.ipynb",
      "provenance": []
    },
    "kernelspec": {
      "name": "python3",
      "display_name": "Python 3"
    }
  },
  "cells": [
    {
      "cell_type": "code",
      "metadata": {
        "id": "bWtGuifh1KDe",
        "colab_type": "code",
        "outputId": "7a5a9b34-cd43-49f9-a131-a95febdff20d",
        "colab": {
          "base_uri": "https://localhost:8080/",
          "height": 34
        }
      },
      "source": [
        "# -*- coding: utf-8 -*-\n",
        "\"\"\"\n",
        "Created on Sun Mar  1 12:51:36 2020\n",
        "\n",
        "@author: iscca\n",
        "\"\"\""
      ],
      "execution_count": 0,
      "outputs": [
        {
          "output_type": "execute_result",
          "data": {
            "text/plain": [
              "'\\nCreated on Sun Mar  1 12:51:36 2020\\n\\n@author: iscca\\n'"
            ]
          },
          "metadata": {
            "tags": []
          },
          "execution_count": 1
        }
      ]
    },
    {
      "cell_type": "code",
      "metadata": {
        "id": "lX333rrH1ZtD",
        "colab_type": "code",
        "colab": {}
      },
      "source": [
        "import io\n",
        "from PIL import Image \n",
        "import glob\n",
        "import numpy as np\n",
        "import pandas as pd\n",
        "from sklearn.decomposition import PCA\n",
        "from numpy import linalg as LA\n",
        "import math"
      ],
      "execution_count": 0,
      "outputs": []
    },
    {
      "cell_type": "markdown",
      "metadata": {
        "id": "-Pzf4cdO1kz1",
        "colab_type": "text"
      },
      "source": [
        "Funciones"
      ]
    },
    {
      "cell_type": "code",
      "metadata": {
        "id": "O1sFM7OG1dsY",
        "colab_type": "code",
        "colab": {}
      },
      "source": [
        "def medias(data):\n",
        "\n",
        "    x = []\n",
        "    for i in range(data.shape[1]):\n",
        "        x.append(np.mean(data[:,i]))\n",
        "        \n",
        "    return x\n",
        "\n",
        "def cambiar(data):\n",
        "    for item in range(len(data)):\n",
        "        if item[i]==255:\n",
        "            item[i] = 1\n",
        "\n",
        "    return data\n",
        "\n",
        "def LDC(data,median,inversa,priori):\n",
        "    c= -.5\n",
        "    dt = data\n",
        "    media_t = np.transpose(median)\n",
        "    s1 = np.dot(median,inversa)\n",
        "    \n",
        "    suma1 = np.dot(s1,dt)\n",
        "    \n",
        "    suma2 = c * np.dot(s1, media_t)\n",
        "    \n",
        "    suma3 = math.log(priori)\n",
        "    \n",
        "    r = suma1 + suma2 +suma3\n",
        "    return r\n",
        "\n",
        "def sanear(datos):\n",
        "    D, V = LA.eig(datos)\n",
        "    datos[datos<0] =.001\n",
        "    tras = np.transpose(V)\n",
        "    op = (D*V)\n",
        "    ops = np.dot(op,tras)\n",
        "    return ops\n",
        "\n",
        "def clasificar(datos,clases):\n",
        "    label1 = np.where(clases==0)\n",
        "    label2 = np.where(clases==1)\n",
        "    result1 = datos[label1[0],:]\n",
        "    result2 = datos[label2[0],:]    \n",
        "    \n",
        "    return result1, result2\n",
        "\n",
        "def mod_class(mod1,mod2):\n",
        "    mod = []\n",
        "    for j in range(len(mod1)):\n",
        "        if mod1[j]> mod2[j]:\n",
        "            mod.append(0)\n",
        "        else:\n",
        "            mod.append(1)\n",
        "            \n",
        "    return mod\n",
        "\n",
        "def tasas(mod, cl_test):\n",
        "    aciertos = []\n",
        "\n",
        "    for ind in range(len(mod)):\n",
        "        if mod[ind] == cl_test[ind]:\n",
        "            aciertos.append(1)\n",
        "    tasa = (sum(aciertos)/len(cl_test))*100\n",
        "    return tasa"
      ],
      "execution_count": 0,
      "outputs": []
    },
    {
      "cell_type": "code",
      "metadata": {
        "id": "E_bAKo_V1mCV",
        "colab_type": "code",
        "colab": {}
      },
      "source": [
        "newl = []\n",
        "newt = []\n",
        "clases = [0,0,0,0,1,1,1,1]\n",
        "for name in glob.glob('circulos_cuadrados/*.jpg'):\n",
        "    print(name)\n",
        "    im = Image.open(name)\n",
        "    thresh = 200\n",
        "    fn = lambda x : 1 if x > thresh else 0\n",
        "    im = im.convert('L').point(fn)\n",
        "        \n",
        "    tama = np.size(im)\n",
        "    dimen = tama[0]*tama[1]\n",
        "    data = np.asarray(im)\n",
        "    newv = np.matrix.flatten(data,'C')\n",
        "    newl.append(newv)"
      ],
      "execution_count": 0,
      "outputs": []
    },
    {
      "cell_type": "code",
      "metadata": {
        "id": "XKrRYrSW1jmJ",
        "colab_type": "code",
        "colab": {}
      },
      "source": [
        "test = 'circulos_cuadrados/test/*.jpg'\n",
        "v =3\n",
        "for name in glob.glob(test):\n",
        "    print(name)\n",
        "    im = Image.open(name)\n",
        "    thresh = 200\n",
        "    fn = lambda x : 1 if x > thresh else 0\n",
        "    im = im.convert('L').point(fn)\n",
        "        \n",
        "    tama = np.size(im)\n",
        "    dimen = tama[0]*tama[1]\n",
        "    data = np.asarray(im)\n",
        "    newv = np.matrix.flatten(data,'C')\n",
        "  \n",
        "    newt.append(newv)"
      ],
      "execution_count": 0,
      "outputs": []
    },
    {
      "cell_type": "code",
      "metadata": {
        "id": "DoKDmC1X1vy-",
        "colab_type": "code",
        "outputId": "75def450-d7d9-4cdc-edba-1bdc3c0b008e",
        "colab": {
          "base_uri": "https://localhost:8080/",
          "height": 400
        }
      },
      "source": [
        "newl = np.asmatrix(newl)\n",
        "newt = np.asmatrix(newt)\n",
        "\n",
        "pca = PCA(n_components=8)\n",
        "pca = pca.fit(newl)\n",
        "cosa =pca.components_\n",
        "\n",
        "mult1 = np.dot(cosa,newl.T)\n",
        "mult2 = np.dot(cosa,newt.T)\n",
        "\n",
        "clases = np.array([0,0,0,0,1,1,1,1])\n",
        "\n",
        "class1 = np.asmatrix(np.where(clases == 0))\n",
        "class2 = np.asmatrix(np.where(clases == 1))\n",
        "\n",
        "datos_c1, datos_c2 = clasificar(mult1, clases)\n",
        "\n",
        "m1 = medias(datos_c1)\n",
        "m2 = medias(datos_c2)\n",
        "\n",
        "\n",
        "LDC1 = []\n",
        "LDC2 = []"
      ],
      "execution_count": 0,
      "outputs": [
        {
          "output_type": "error",
          "ename": "ValueError",
          "evalue": "ignored",
          "traceback": [
            "\u001b[0;31m---------------------------------------------------------------------------\u001b[0m",
            "\u001b[0;31mValueError\u001b[0m                                Traceback (most recent call last)",
            "\u001b[0;32m<ipython-input-10-949b6b4db765>\u001b[0m in \u001b[0;36m<module>\u001b[0;34m()\u001b[0m\n\u001b[1;32m      3\u001b[0m \u001b[0;34m\u001b[0m\u001b[0m\n\u001b[1;32m      4\u001b[0m \u001b[0mpca\u001b[0m \u001b[0;34m=\u001b[0m \u001b[0mPCA\u001b[0m\u001b[0;34m(\u001b[0m\u001b[0mn_components\u001b[0m\u001b[0;34m=\u001b[0m\u001b[0;36m8\u001b[0m\u001b[0;34m)\u001b[0m\u001b[0;34m\u001b[0m\u001b[0;34m\u001b[0m\u001b[0m\n\u001b[0;32m----> 5\u001b[0;31m \u001b[0mpca\u001b[0m \u001b[0;34m=\u001b[0m \u001b[0mpca\u001b[0m\u001b[0;34m.\u001b[0m\u001b[0mfit\u001b[0m\u001b[0;34m(\u001b[0m\u001b[0mnewl\u001b[0m\u001b[0;34m)\u001b[0m\u001b[0;34m\u001b[0m\u001b[0;34m\u001b[0m\u001b[0m\n\u001b[0m\u001b[1;32m      6\u001b[0m \u001b[0mcosa\u001b[0m \u001b[0;34m=\u001b[0m\u001b[0mpca\u001b[0m\u001b[0;34m.\u001b[0m\u001b[0mcomponents_\u001b[0m\u001b[0;34m\u001b[0m\u001b[0;34m\u001b[0m\u001b[0m\n\u001b[1;32m      7\u001b[0m \u001b[0;34m\u001b[0m\u001b[0m\n",
            "\u001b[0;32m/usr/local/lib/python3.6/dist-packages/sklearn/decomposition/_pca.py\u001b[0m in \u001b[0;36mfit\u001b[0;34m(self, X, y)\u001b[0m\n\u001b[1;32m    342\u001b[0m             \u001b[0mReturns\u001b[0m \u001b[0mthe\u001b[0m \u001b[0minstance\u001b[0m \u001b[0mitself\u001b[0m\u001b[0;34m.\u001b[0m\u001b[0;34m\u001b[0m\u001b[0;34m\u001b[0m\u001b[0m\n\u001b[1;32m    343\u001b[0m         \"\"\"\n\u001b[0;32m--> 344\u001b[0;31m         \u001b[0mself\u001b[0m\u001b[0;34m.\u001b[0m\u001b[0m_fit\u001b[0m\u001b[0;34m(\u001b[0m\u001b[0mX\u001b[0m\u001b[0;34m)\u001b[0m\u001b[0;34m\u001b[0m\u001b[0;34m\u001b[0m\u001b[0m\n\u001b[0m\u001b[1;32m    345\u001b[0m         \u001b[0;32mreturn\u001b[0m \u001b[0mself\u001b[0m\u001b[0;34m\u001b[0m\u001b[0;34m\u001b[0m\u001b[0m\n\u001b[1;32m    346\u001b[0m \u001b[0;34m\u001b[0m\u001b[0m\n",
            "\u001b[0;32m/usr/local/lib/python3.6/dist-packages/sklearn/decomposition/_pca.py\u001b[0m in \u001b[0;36m_fit\u001b[0;34m(self, X)\u001b[0m\n\u001b[1;32m    389\u001b[0m \u001b[0;34m\u001b[0m\u001b[0m\n\u001b[1;32m    390\u001b[0m         X = check_array(X, dtype=[np.float64, np.float32], ensure_2d=True,\n\u001b[0;32m--> 391\u001b[0;31m                         copy=self.copy)\n\u001b[0m\u001b[1;32m    392\u001b[0m \u001b[0;34m\u001b[0m\u001b[0m\n\u001b[1;32m    393\u001b[0m         \u001b[0;31m# Handle n_components==None\u001b[0m\u001b[0;34m\u001b[0m\u001b[0;34m\u001b[0m\u001b[0;34m\u001b[0m\u001b[0m\n",
            "\u001b[0;32m/usr/local/lib/python3.6/dist-packages/sklearn/utils/validation.py\u001b[0m in \u001b[0;36mcheck_array\u001b[0;34m(array, accept_sparse, accept_large_sparse, dtype, order, copy, force_all_finite, ensure_2d, allow_nd, ensure_min_samples, ensure_min_features, warn_on_dtype, estimator)\u001b[0m\n\u001b[1;32m    592\u001b[0m                              \u001b[0;34m\" a minimum of %d is required%s.\"\u001b[0m\u001b[0;34m\u001b[0m\u001b[0;34m\u001b[0m\u001b[0m\n\u001b[1;32m    593\u001b[0m                              % (n_features, array.shape, ensure_min_features,\n\u001b[0;32m--> 594\u001b[0;31m                                 context))\n\u001b[0m\u001b[1;32m    595\u001b[0m \u001b[0;34m\u001b[0m\u001b[0m\n\u001b[1;32m    596\u001b[0m     \u001b[0;32mif\u001b[0m \u001b[0mwarn_on_dtype\u001b[0m \u001b[0;32mand\u001b[0m \u001b[0mdtype_orig\u001b[0m \u001b[0;32mis\u001b[0m \u001b[0;32mnot\u001b[0m \u001b[0;32mNone\u001b[0m \u001b[0;32mand\u001b[0m \u001b[0marray\u001b[0m\u001b[0;34m.\u001b[0m\u001b[0mdtype\u001b[0m \u001b[0;34m!=\u001b[0m \u001b[0mdtype_orig\u001b[0m\u001b[0;34m:\u001b[0m\u001b[0;34m\u001b[0m\u001b[0;34m\u001b[0m\u001b[0m\n",
            "\u001b[0;31mValueError\u001b[0m: Found array with 0 feature(s) (shape=(1, 0)) while a minimum of 1 is required."
          ]
        }
      ]
    },
    {
      "cell_type": "code",
      "metadata": {
        "id": "5iK8MElq18LH",
        "colab_type": "code",
        "colab": {}
      },
      "source": [
        "sigma = np.cov(newl)\n",
        "saneado = sanear(sigma)\n",
        "saneado = np.linalg.inv(saneado)\n",
        "c, r = class1.shape\n",
        "c2, r2 = class2.shape\n",
        "p_clas1 = r/len(clases)\n",
        "p_clas2 = r2/len(clases)\n",
        "\n",
        "\n",
        "for i in range(mult2.shape[1]):\n",
        "    \n",
        "    Test = mult2[:, i]\n",
        "    sumaL1 = LDC(Test,m1,saneado,p_clas1)\n",
        "    LDC1.append(sumaL1)\n",
        "    sumaL2 = LDC(Test,m2,saneado,p_clas2)\n",
        "    LDC2.append(sumaL2)\n",
        "\n",
        "LDC_T = mod_class(LDC1,LDC2)\n",
        "tasa_LDC = tasas(LDC_T,clases)*v\n",
        "\n",
        "\n",
        "print(\"Tasa de reconocimiento\\n\",tasa_LDC)"
      ],
      "execution_count": 0,
      "outputs": []
    },
    {
      "cell_type": "code",
      "metadata": {
        "id": "e3B8Q-EF2l5e",
        "colab_type": "code",
        "colab": {}
      },
      "source": [
        ")"
      ],
      "execution_count": 0,
      "outputs": []
    }
  ]
}
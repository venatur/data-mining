{
  "nbformat": 4,
  "nbformat_minor": 0,
  "metadata": {
    "colab": {
      "name": "qdc_ldc.ipynb",
      "provenance": []
    },
    "kernelspec": {
      "name": "python3",
      "display_name": "Python 3"
    }
  },
  "cells": [
    {
      "cell_type": "code",
      "metadata": {
        "id": "kFqVNoYwyQKp",
        "colab_type": "code",
        "colab": {
          "base_uri": "https://localhost:8080/",
          "height": 72
        },
        "outputId": "025b865a-2f8b-4300-8839-8f5ecf302c62"
      },
      "source": [
        "import seaborn as sns\n",
        "import matplotlib.pyplot as plt\n",
        "import scipy.io\n",
        "from scipy import stats\n",
        "import pandas as pd\n",
        "import sklearn as sk\n",
        "from sklearn.discriminant_analysis import QuadraticDiscriminantAnalysis\n",
        "import numpy as np\n",
        "from numpy import linalg as LA\n",
        "from sklearn.model_selection import train_test_split\n",
        "import math\n",
        "from sklearn.metrics import accuracy_score, precision_score, recall_score, f1_score"
      ],
      "execution_count": 1,
      "outputs": [
        {
          "output_type": "stream",
          "text": [
            "/usr/local/lib/python3.6/dist-packages/statsmodels/tools/_testing.py:19: FutureWarning: pandas.util.testing is deprecated. Use the functions in the public API at pandas.testing instead.\n",
            "  import pandas.util.testing as tm\n"
          ],
          "name": "stderr"
        }
      ]
    },
    {
      "cell_type": "markdown",
      "metadata": {
        "id": "Bb-qxjaGyhpU",
        "colab_type": "text"
      },
      "source": [
        "Functions!\n"
      ]
    },
    {
      "cell_type": "code",
      "metadata": {
        "id": "P3DTb3zLyZDH",
        "colab_type": "code",
        "colab": {}
      },
      "source": [
        "def medias(data):\n",
        "    x = []\n",
        "    for i in range(len(data[1])):\n",
        "        x.append(np.mean(data[:,i]))\n",
        "        \n",
        "    return x\n",
        "\n",
        "def sanear(datos):\n",
        "    D, V = LA.eig(datos)\n",
        "    datos[datos<0] =.001\n",
        "    tras = np.transpose(V)\n",
        "    op = (D*V)\n",
        "    ops = np.dot(op,tras)\n",
        "    return ops\n",
        "\n",
        "def clasificar(datos,clases):\n",
        "    label1 = np.where(clases==1)\n",
        "    label2 = np.where(clases==2)\n",
        "    result1 = datos[label1[0],:]\n",
        "    result2 = datos[label2[0],:]    \n",
        "    \n",
        "    return result1, result2\n",
        "    \n",
        "def lengs(data,training):\n",
        "    priori = data.shape[0]/training.shape[0]       \n",
        "    return priori\n",
        "\n",
        "def QDC(data,inversa,median,san,priori):\n",
        "    c= -.5\n",
        "    dt = np.transpose(data)\n",
        "    media_t = np.transpose(median)\n",
        "    \n",
        "    s1 = np.dot(data, inversa)\n",
        "    sum1 = c*np.dot(s1,dt)\n",
        "    \n",
        "    s2 = np.dot(median, inversa)\n",
        "    sum2 = np.dot(s2,dt)\n",
        "    \n",
        "    sum3 = c * np.dot(s2, media_t)\n",
        "    \n",
        "    sum4 = c * math.log(np.linalg.det(san))\n",
        "    \n",
        "    sum5 = math.log(priori)\n",
        "    \n",
        "    r = sum1+sum2+sum3+sum4+sum5   \n",
        "    return r\n",
        "\n",
        "def LDC(data,median,inversa,priori):\n",
        "    c= -.5\n",
        "    dt = np.transpose(data)\n",
        "    media_t = np.transpose(median)\n",
        "    s1 = np.dot(median,inversa)\n",
        "    \n",
        "    suma1 = np.dot(s1,dt)\n",
        "    \n",
        "    suma2 = c * np.dot(s1, media_t)\n",
        "    \n",
        "    suma3 = math.log(priori)\n",
        "    \n",
        "    r = suma1 + suma2 +suma3\n",
        "    return r\n",
        "\n",
        "def tasas(mod, cl_test):\n",
        "    aciertos = []\n",
        "\n",
        "    for ind in range(len(mod)):\n",
        "        if mod[ind] == cl_test[ind]:\n",
        "            aciertos.append(1)\n",
        "    tasa = (sum(aciertos)/len(cl_test))*100\n",
        "    return tasa\n",
        "\n",
        "def mod_class(mod1,mod2):\n",
        "    mod = []\n",
        "    for j in range(len(mod1)):\n",
        "        if mod1[j]> mod2[j]:\n",
        "            mod.append(1)\n",
        "        else:\n",
        "            mod.append(2)\n",
        "            \n",
        "    return mod\n"
      ],
      "execution_count": 0,
      "outputs": []
    },
    {
      "cell_type": "code",
      "metadata": {
        "id": "AQrv_ABWzZjs",
        "colab_type": "code",
        "colab": {}
      },
      "source": [
        "mat = scipy.io.loadmat('datos_wdbc.mat')\n",
        "trn = mat['trn']\n",
        "clas = trn['y'][0,0]\n",
        "xc = trn['xc'][0,0]\n",
        "xd = trn['xd'][0,0]"
      ],
      "execution_count": 0,
      "outputs": []
    },
    {
      "cell_type": "code",
      "metadata": {
        "id": "LBwvusMTyjeH",
        "colab_type": "code",
        "colab": {}
      },
      "source": [
        "continuos = pd.DataFrame(data=xc)\n",
        "\n",
        "C_train, C_test, cl_train, cl_test = train_test_split(xc, clas, test_size=.20, shuffle=False)\n",
        "cov_xc = np.cov(C_train,rowvar=False)\n",
        "mios = sanear(cov_xc)\n",
        "clas1, clas2 = clasificar(C_train,cl_train)"
      ],
      "execution_count": 0,
      "outputs": []
    },
    {
      "cell_type": "code",
      "metadata": {
        "id": "qztdbWn-zCxC",
        "colab_type": "code",
        "colab": {}
      },
      "source": [
        "#medias\n",
        "\n",
        "med_clas1 = medias(clas1)\n",
        "med_clas2 = medias(clas2)\n",
        "\n",
        "cov_clas1 = np.cov(clas1,rowvar=False)\n",
        "cov_clas2 = np.cov(clas2,rowvar=False)\n",
        "\n",
        "#saneados\n",
        "san1 = sanear(cov_clas1)\n",
        "san2 = sanear(cov_clas2)\n",
        "\n",
        "#clasificaciones apriori\n",
        "priori1 = lengs(clas1,C_train)\n",
        "priori2 = lengs(clas2,C_train)\n"
      ],
      "execution_count": 0,
      "outputs": []
    },
    {
      "cell_type": "code",
      "metadata": {
        "id": "M_PnansYzy0k",
        "colab_type": "code",
        "colab": {}
      },
      "source": [
        "med_trasp_clas1 = np.transpose(med_clas1)\n",
        "inv_san1 = np.linalg.inv(san1)\n",
        "inv_san2 = np.linalg.inv(san1)\n",
        "mios_t = np.linalg.inv(mios)"
      ],
      "execution_count": 0,
      "outputs": []
    },
    {
      "cell_type": "code",
      "metadata": {
        "id": "qRccdn3XzPkn",
        "colab_type": "code",
        "colab": {}
      },
      "source": [
        "c = -0.5\n",
        "QDC1 = []\n",
        "QDC2 = []\n",
        "LDC1 = []\n",
        "LDC2 = []"
      ],
      "execution_count": 0,
      "outputs": []
    },
    {
      "cell_type": "code",
      "metadata": {
        "id": "aW_WJQUizkg_",
        "colab_type": "code",
        "colab": {}
      },
      "source": [
        "for i in range(len(C_test)):\n",
        "    \n",
        "    Test = C_test[i, :]\n",
        "    sumaT1 = QDC(Test,inv_san1,med_clas1,san1,priori1)\n",
        "    QDC1.append(sumaT1)\n",
        "    sumaT2 = QDC(Test,inv_san2,med_clas2,san2,priori2)\n",
        "    QDC2.append(sumaT2)\n",
        "    sumaL1 = LDC(Test,med_clas1,mios_t,priori1)\n",
        "    LDC1.append(sumaL1)\n",
        "    sumaL2 = LDC(Test,med_clas2,mios_t,priori2)\n",
        "    LDC2.append(sumaL2)"
      ],
      "execution_count": 0,
      "outputs": []
    },
    {
      "cell_type": "code",
      "metadata": {
        "id": "nTNK5B6Mzqws",
        "colab_type": "code",
        "colab": {}
      },
      "source": [
        "QDC_T = mod_class(QDC1,QDC2)\n",
        "LDC_T = mod_class(LDC1,LDC2)  \n",
        "      \n",
        "tasa_QDC = tasas(QDC_T,cl_test)\n",
        "tasa_LDC = tasas(LDC_T,cl_test)"
      ],
      "execution_count": 0,
      "outputs": []
    },
    {
      "cell_type": "markdown",
      "metadata": {
        "id": "znFEy2GEz9YW",
        "colab_type": "text"
      },
      "source": [
        "Regularizacion QDC\n",
        "\n",
        "\n",
        "```\n",
        "# This is formatted as code\n",
        "```\n",
        "\n"
      ]
    },
    {
      "cell_type": "code",
      "metadata": {
        "id": "1vKrTP8wz-8_",
        "colab_type": "code",
        "colab": {}
      },
      "source": [
        "alpha = np.arange(0,1,.1)\n",
        "matris = np.dot(san1,mios)"
      ],
      "execution_count": 0,
      "outputs": []
    },
    {
      "cell_type": "code",
      "metadata": {
        "id": "OWBcpCKm0CPi",
        "colab_type": "code",
        "colab": {}
      },
      "source": [
        "RQDC1 = []\n",
        "RQDC2 = []\n",
        "RQDC1_e = []\n",
        "RQDC2_e = []\n",
        "xi = []\n",
        "RLDC1 = []\n",
        "RLDC2 = []\n",
        "\n",
        "QDCTS1 = []\n",
        "QDCTS2 = []"
      ],
      "execution_count": 0,
      "outputs": []
    },
    {
      "cell_type": "code",
      "metadata": {
        "id": "vecfDRp80EQW",
        "colab_type": "code",
        "colab": {}
      },
      "source": [
        "for ap in range(len(alpha)):\n",
        "    QDC_reg1 = alpha[ap] * san1 + (1 - alpha[ap]) * mios\n",
        "    QDC_reg2 = alpha[ap] * san2 + (1 - alpha[ap]) * mios\n",
        "    \n",
        "    for i in range(len(C_test)):\n",
        "        RTest = C_test[i, :]\n",
        "        z1 = QDC(RTest,np.linalg.inv(QDC_reg1),med_clas1,QDC_reg1,priori1)\n",
        "        QDCTS1.append(z1)\n",
        "        z2= QDC(RTest,np.linalg.inv(QDC_reg2),med_clas2,QDC_reg2,priori2)\n",
        "        QDCTS2.append(z2)\n",
        "    \n",
        "    \n",
        "    RQDC1_e.append(QDCTS1)\n",
        "    RQDC2_e.append(QDCTS2)\n",
        "    QDCTS1 = []\n",
        "    QDCTS2 = []\n",
        "\n",
        "QDC_class = []    \n",
        "QDC_tasa = []\n",
        "\n",
        "for a in range(len(RQDC1_e)):\n",
        "    clas = mod_class(RQDC1_e[a],RQDC2_e[a])\n",
        "    QDC_class.append(clas)\n",
        "\n",
        "for a in range(len(RQDC1_e)):\n",
        "    tasa = tasas(QDC_class[a],cl_test)\n",
        "    QDC_tasa.append(tasa)"
      ],
      "execution_count": 0,
      "outputs": []
    },
    {
      "cell_type": "code",
      "metadata": {
        "id": "WkoxpzhC0Gku",
        "colab_type": "code",
        "colab": {}
      },
      "source": [
        ""
      ],
      "execution_count": 0,
      "outputs": []
    },
    {
      "cell_type": "markdown",
      "metadata": {
        "id": "rZKOj0gU0Nyd",
        "colab_type": "text"
      },
      "source": [
        "Regularizacion LDC"
      ]
    },
    {
      "cell_type": "code",
      "metadata": {
        "id": "th9ibYmz0Qyr",
        "colab_type": "code",
        "colab": {}
      },
      "source": [
        "gama = np.arange(0,1,.1)\n",
        "LDCTS1 = []\n",
        "LDCTS2 = []\n",
        "\n",
        "RLDC1_e = []\n",
        "RLDC2_e = []  \n",
        "varianza = np.cov(C_train)"
      ],
      "execution_count": 0,
      "outputs": []
    },
    {
      "cell_type": "code",
      "metadata": {
        "id": "NmiVlyN50Ro3",
        "colab_type": "code",
        "colab": {}
      },
      "source": [
        "for g in range(len(gama)):\n",
        "    LDC_reg = gama[g] * mios + (1 - gama[g]) * mios \n",
        "    \n",
        "    for i in range(len(C_test)):\n",
        "        RTest = C_test[i, :]\n",
        "        z1 = LDC(RTest,med_clas1,np.linalg.inv(LDC_reg),priori1)\n",
        "        LDCTS1.append(z1)\n",
        "        z2 = LDC(RTest,med_clas2,np.linalg.inv(LDC_reg),priori2)\n",
        "        LDCTS2.append(z2)\n",
        "        \n",
        "    RLDC1_e.append(LDCTS1)\n",
        "    RLDC2_e.append(LDCTS2)\n",
        "    LDCTS1 = []\n",
        "    LDCTS2 = []\n",
        "\n",
        "LDC_class = []    \n",
        "LDC_tasa = []\n",
        "\n",
        "for a in range(len(RLDC1_e)):\n",
        "    clas2 = mod_class(RLDC1_e[a],RLDC2_e[a])\n",
        "    LDC_class.append(clas2)\n",
        "\n",
        "for a in range(len(RLDC1_e)):\n",
        "    tasa2 = tasas(LDC_class[a],cl_test)\n",
        "    LDC_tasa.append(tasa2)    "
      ],
      "execution_count": 0,
      "outputs": []
    },
    {
      "cell_type": "code",
      "metadata": {
        "id": "2Fy3MW3Z0aQR",
        "colab_type": "code",
        "colab": {}
      },
      "source": [
        ""
      ],
      "execution_count": 0,
      "outputs": []
    },
    {
      "cell_type": "markdown",
      "metadata": {
        "id": "UgESd4dD0b92",
        "colab_type": "text"
      },
      "source": [
        "Graficas"
      ]
    },
    {
      "cell_type": "code",
      "metadata": {
        "id": "fOcYKEDw0cnM",
        "colab_type": "code",
        "colab": {
          "base_uri": "https://localhost:8080/",
          "height": 578
        },
        "outputId": "78a3622b-6389-484c-fc0f-df1608aafd2c"
      },
      "source": [
        "fig = plt.figure(figsize=(10,5))\n",
        "ax1 = fig.add_subplot(121)\n",
        "ax2 = fig.add_subplot(122)\n",
        "ax1.plot(alpha,QDC_tasa)\n",
        "ax1.set(title=\"QDC\", xlabel=\"alpha\", ylabel=\"tasa\")\n",
        "ax2.plot(gama,LDC_tasa)\n",
        "ax2.set(title=\"LDC\", xlabel=\"gamma\", ylabel=\"tasa\")\n",
        "\n",
        "#plt.scatter(C_train,cl_train)\n",
        "print(\"QDC \\n\")\n",
        "print(\"QDC tasa de reconocimiento \\n\", tasa_QDC)\n",
        "print(\"QDC tasa de reconocimiento regularizada \\n\", QDC_tasa)\n",
        "\n",
        "print(\"LDC \\n\")\n",
        "print(\"QDC tasa de reconocimiento \\n\", tasa_LDC)\n",
        "print(\"LDC tasa de reconocimiento \\n\", tasa_LDC)"
      ],
      "execution_count": 22,
      "outputs": [
        {
          "output_type": "stream",
          "text": [
            "QDC \n",
            "\n",
            "QDC tasa de reconocimiento \n",
            " 85.96491228070175\n",
            "QDC tasa de reconocimiento regularizada \n",
            " [97.36842105263158, 95.6140350877193, 93.85964912280701, 93.85964912280701, 93.85964912280701, 92.98245614035088, 92.10526315789474, 92.10526315789474, 92.10526315789474, 94.73684210526315]\n",
            "LDC \n",
            "\n",
            "QDC tasa de reconocimiento \n",
            " 97.36842105263158\n",
            "LDC tasa de reconocimiento \n",
            " 97.36842105263158\n"
          ],
          "name": "stdout"
        },
        {
          "output_type": "display_data",
          "data": {
            "image/png": "[encoded data removed]",
            "text/plain": [
              "<Figure size 720x360 with 2 Axes>"
            ]
          },
          "metadata": {
            "tags": [],
            "needs_background": "light"
          }
        }
      ]
    },
    {
      "cell_type": "code",
      "metadata": {
        "id": "hDQmyDOY0eY8",
        "colab_type": "code",
        "colab": {}
      },
      "source": [
        ""
      ],
      "execution_count": 0,
      "outputs": []
    },
    {
      "cell_type": "code",
      "metadata": {
        "id": "XnHFt2ar07Kc",
        "colab_type": "code",
        "colab": {}
      },
      "source": [
        "from google.colab import drive\n",
        "drive.mount('/content/drive')"
      ],
      "execution_count": 0,
      "outputs": []
    }
  ]
}
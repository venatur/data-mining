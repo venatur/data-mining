{
  "nbformat": 4,
  "nbformat_minor": 0,
  "metadata": {
    "colab": {
      "name": "logistic.ipynb",
      "provenance": []
    },
    "kernelspec": {
      "name": "python3",
      "display_name": "Python 3"
    }
  },
  "cells": [
    {
      "cell_type": "code",
      "metadata": {
        "id": "lW86U0xKvu3O",
        "colab_type": "code",
        "colab": {}
      },
      "source": [
        "# -*- coding: utf-8 -*-\n",
        "\"\"\"\n",
        "Created on Sat Mar 28 21:53:59 2020\n",
        "\n",
        "@author: iscca\n",
        "\"\"\"\n",
        "\n",
        "\n",
        "import numpy as np\n",
        "import pandas as pd\n",
        "import matplotlib.pyplot as plt\n",
        "import statsmodels.api as sm\n",
        "import seaborn as sns\n",
        "import scipy.io\n",
        "from scipy import stats\n",
        "from sklearn.model_selection import train_test_split\n",
        "from sklearn import linear_model\n",
        "from sklearn import model_selection\n",
        "from sklearn.metrics import accuracy_score\n",
        "from sklearn.metrics import confusion_matrix\n",
        "from sklearn.metrics import classification_report\n",
        "sns.set()"
      ],
      "execution_count": 0,
      "outputs": []
    },
    {
      "cell_type": "code",
      "metadata": {
        "id": "uVyAo89evxcb",
        "colab_type": "code",
        "colab": {}
      },
      "source": [
        "def clasificar(datos,clases):\n",
        "    label1 = np.where(clases==1)\n",
        "    label2 = np.where(clases==2)\n",
        "    result1 = datos[label1[0],:]\n",
        "    result2 = datos[label2[0],:]    \n",
        "    \n",
        "    return result1, result2"
      ],
      "execution_count": 0,
      "outputs": []
    },
    {
      "cell_type": "code",
      "metadata": {
        "id": "cHmhh4Ifv0L5",
        "colab_type": "code",
        "colab": {}
      },
      "source": [
        "mat = scipy.io.loadmat('datos_wdbc.mat')\n",
        "trn = mat['trn']\n",
        "clas = trn['y'][0,0]\n",
        "xc = trn['xc'][0,0]\n",
        "xd = trn['xd'][0,0]\n",
        "\n",
        "continuos = pd.DataFrame(data=xc)\n",
        "\n",
        "\n",
        "\n",
        "model = linear_model.LogisticRegression()\n",
        "model.fit(continuos,clas)\n",
        "\n",
        "predictions = model.predict(continuos)\n",
        "\n",
        "number = model.score(continuos,clas)\n",
        "print('Model score:')\n",
        "\n",
        "name = 'Logistic Regression'\n",
        "seed = 7\n",
        "X_train, X_validation, Y_train, Y_validation = model_selection.train_test_split(continuos, clas, test_size=.30, random_state=seed)\n",
        "kfold = model_selection.KFold(n_splits=10, random_state=seed)\n",
        "cv_results = model_selection.cross_val_score(model, X_train, Y_train, cv=kfold, scoring='accuracy')\n",
        "msg = \"%s: %f (%f)\" % (name, cv_results.mean(), cv_results.std())\n",
        "print(msg)\n",
        "\n",
        "predictions = model.predict(X_validation)\n",
        "print(accuracy_score(Y_validation, predictions))\n",
        "\n",
        "print(confusion_matrix(Y_validation, predictions))\n",
        "print(classification_report(Y_validation, predictions))"
      ],
      "execution_count": 0,
      "outputs": []
    }
  ]
}